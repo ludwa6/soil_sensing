{
 "cells": [
  {
   "cell_type": "markdown",
   "metadata": {},
   "source": [
    "# Remote sensing of soils on the farm: Is it feasible?\n",
    "_an agile approach to scaleable system development_"
   ]
  },
  {
   "cell_type": "markdown",
   "metadata": {},
   "source": [
    "## FOCUS: Research question(s) and scope\n",
    "Within context defined in the [ReadMe document](/ReadMe-2.md), the FOCUS of this first test is to understand the given technology, essentially:\n",
    "\n",
    "1. the Flower Power Soil sensor;\n",
    "2. the Flower Power app for iPhone;\n",
    "3. the data files that flow from iPhone app to cloud, and back to user desktop via Python script developed & maintained by GROW Observatory for the duration of this project; and\n",
    "4. the GROW observatory hub website, as a source of end-user information and support.\n",
    "\n",
    "\n",
    "Given that: \n",
    "\n",
    "- The sensor and iPhone app (1&2 above) work essentially as advertised, though there are some doubts about sensor weatherproofing [1]; and\n",
    "- The [GROW Observatory website](https://hub.growobservatory.org/my-data/sensors/) (4 above; login required) gives a marginally useful but limited view of sensor data, and discussion forums that have yet to shape-up into a very good source of collegial exchange/ support;\n",
    "- Our focus at this point is on the data files -now holding raw data uploaded from all our sensors, downloadable on demand as a set of .csv files (one per sensor) - and figuring out the information held in these files can be leveraged to add value to our farm operations.\n",
    "\n",
    "QUESTION(S) for Research:\n",
    "- DataFlow: Can we in fact dowload the data easily enough, in a form that we can work with using Pandas (since Python is the language of data tranfer script, this is the lingua franca)?\n",
    "- Data Model: What indicators are available for tracking?\n",
    "- Data Latency:  From time of upload, how quickly is data available for download?  And what if any is the maxium latency between recorded time of last record, and time of data upload?\n",
    "- Data Integrity: Is the data complete (since sensor boot-up time, with no null values) and accurate (does it appear to make sense, as compared with what's known about local conditions)?\n",
    "\n",
    "SCOPE: For the purposes of this analysis, data from one sensor (implanted 1 month ago) will be sufficient.  Data from several additional sensors that have since been implanted will be included in subsequent analysis (test2), once the questions above have been answered."
   ]
  },
  {
   "cell_type": "code",
   "execution_count": 1,
   "metadata": {},
   "outputs": [
    {
     "name": "stdout",
     "output_type": "stream",
     "text": [
      "Pandas version  0.23.0\n"
     ]
    }
   ],
   "source": [
    "import pandas as pd   #load the software\n",
    "print(\"Pandas version \",pd.__version__)  # confirm software version, to guarantee reproducible results"
   ]
  },
  {
   "cell_type": "code",
   "execution_count": 2,
   "metadata": {},
   "outputs": [
    {
     "data": {
      "text/plain": [
       "pandas._libs.tslibs.timestamps.Timestamp"
      ]
     },
     "execution_count": 2,
     "metadata": {},
     "output_type": "execute_result"
    }
   ],
   "source": [
    "# Import the .csv datafile from the \"test1\" sensor, \n",
    "# convert the \"capture_datetime_utc\" column to parse those strings into useful datetime format\n",
    "# change index to be that column (versus the assigned ID that is pandas default)\n",
    "# ask pandas to confirm that the index of this file is now of datetime type\n",
    "df=pd.read_csv(\"Flower power 6A22.csv\",parse_dates=[\"capture_datetime_utc\"], index_col=\"capture_datetime_utc\")\n",
    "type(df.index[0])"
   ]
  },
  {
   "cell_type": "code",
   "execution_count": 3,
   "metadata": {},
   "outputs": [
    {
     "name": "stdout",
     "output_type": "stream",
     "text": [
      "Customers: Rows & Columns =  (2866, 4)\n",
      "Customers: Column Headers:  Index(['fertilizer_level', 'light', 'soil_moisture_percent',\n",
      "       'air_temperature_celsius'],\n",
      "      dtype='object')\n"
     ]
    }
   ],
   "source": [
    "print(\"Customers: Rows & Columns = \",df.shape)  #to give an idea the shape of dataframe, literally\n",
    "print(\"Customers: Column Headers: \",df.columns)  # to see the column headers"
   ]
  },
  {
   "cell_type": "code",
   "execution_count": 4,
   "metadata": {},
   "outputs": [
    {
     "data": {
      "text/html": [
       "<div>\n",
       "<style scoped>\n",
       "    .dataframe tbody tr th:only-of-type {\n",
       "        vertical-align: middle;\n",
       "    }\n",
       "\n",
       "    .dataframe tbody tr th {\n",
       "        vertical-align: top;\n",
       "    }\n",
       "\n",
       "    .dataframe thead th {\n",
       "        text-align: right;\n",
       "    }\n",
       "</style>\n",
       "<table border=\"1\" class=\"dataframe\">\n",
       "  <thead>\n",
       "    <tr style=\"text-align: right;\">\n",
       "      <th></th>\n",
       "      <th>fertilizer_level</th>\n",
       "      <th>light</th>\n",
       "      <th>soil_moisture_percent</th>\n",
       "      <th>air_temperature_celsius</th>\n",
       "    </tr>\n",
       "    <tr>\n",
       "      <th>capture_datetime_utc</th>\n",
       "      <th></th>\n",
       "      <th></th>\n",
       "      <th></th>\n",
       "      <th></th>\n",
       "    </tr>\n",
       "  </thead>\n",
       "  <tbody>\n",
       "    <tr>\n",
       "      <th>2018-06-18 19:05:28</th>\n",
       "      <td>0.94</td>\n",
       "      <td>1.22</td>\n",
       "      <td>17.71</td>\n",
       "      <td>26.51</td>\n",
       "    </tr>\n",
       "    <tr>\n",
       "      <th>2018-06-18 19:20:28</th>\n",
       "      <td>0.94</td>\n",
       "      <td>0.91</td>\n",
       "      <td>17.59</td>\n",
       "      <td>26.15</td>\n",
       "    </tr>\n",
       "    <tr>\n",
       "      <th>2018-06-18 19:35:28</th>\n",
       "      <td>0.94</td>\n",
       "      <td>0.54</td>\n",
       "      <td>17.21</td>\n",
       "      <td>25.92</td>\n",
       "    </tr>\n",
       "    <tr>\n",
       "      <th>2018-06-18 19:50:28</th>\n",
       "      <td>0.94</td>\n",
       "      <td>0.18</td>\n",
       "      <td>17.46</td>\n",
       "      <td>25.83</td>\n",
       "    </tr>\n",
       "    <tr>\n",
       "      <th>2018-06-18 20:05:28</th>\n",
       "      <td>0.94</td>\n",
       "      <td>0.10</td>\n",
       "      <td>17.58</td>\n",
       "      <td>25.83</td>\n",
       "    </tr>\n",
       "  </tbody>\n",
       "</table>\n",
       "</div>"
      ],
      "text/plain": [
       "                      fertilizer_level  light  soil_moisture_percent  \\\n",
       "capture_datetime_utc                                                   \n",
       "2018-06-18 19:05:28               0.94   1.22                  17.71   \n",
       "2018-06-18 19:20:28               0.94   0.91                  17.59   \n",
       "2018-06-18 19:35:28               0.94   0.54                  17.21   \n",
       "2018-06-18 19:50:28               0.94   0.18                  17.46   \n",
       "2018-06-18 20:05:28               0.94   0.10                  17.58   \n",
       "\n",
       "                      air_temperature_celsius  \n",
       "capture_datetime_utc                           \n",
       "2018-06-18 19:05:28                     26.51  \n",
       "2018-06-18 19:20:28                     26.15  \n",
       "2018-06-18 19:35:28                     25.92  \n",
       "2018-06-18 19:50:28                     25.83  \n",
       "2018-06-18 20:05:28                     25.83  "
      ]
     },
     "execution_count": 4,
     "metadata": {},
     "output_type": "execute_result"
    }
   ],
   "source": [
    "df.head()   #so we can eyeball the first few rows of data\n",
    "# df.iloc[0:5]   #another way of calling for those same rows by their originally indexed location"
   ]
  },
  {
   "cell_type": "code",
   "execution_count": 5,
   "metadata": {},
   "outputs": [
    {
     "data": {
      "text/html": [
       "<div>\n",
       "<style scoped>\n",
       "    .dataframe tbody tr th:only-of-type {\n",
       "        vertical-align: middle;\n",
       "    }\n",
       "\n",
       "    .dataframe tbody tr th {\n",
       "        vertical-align: top;\n",
       "    }\n",
       "\n",
       "    .dataframe thead th {\n",
       "        text-align: right;\n",
       "    }\n",
       "</style>\n",
       "<table border=\"1\" class=\"dataframe\">\n",
       "  <thead>\n",
       "    <tr style=\"text-align: right;\">\n",
       "      <th></th>\n",
       "      <th>fertilizer_level</th>\n",
       "      <th>light</th>\n",
       "      <th>soil_moisture_percent</th>\n",
       "      <th>air_temperature_celsius</th>\n",
       "    </tr>\n",
       "    <tr>\n",
       "      <th>capture_datetime_utc</th>\n",
       "      <th></th>\n",
       "      <th></th>\n",
       "      <th></th>\n",
       "      <th></th>\n",
       "    </tr>\n",
       "  </thead>\n",
       "  <tbody>\n",
       "    <tr>\n",
       "      <th>2018-07-18 14:18:29</th>\n",
       "      <td>0.8</td>\n",
       "      <td>17.10</td>\n",
       "      <td>14.37</td>\n",
       "      <td>30.94</td>\n",
       "    </tr>\n",
       "    <tr>\n",
       "      <th>2018-07-18 14:33:29</th>\n",
       "      <td>0.8</td>\n",
       "      <td>17.75</td>\n",
       "      <td>14.11</td>\n",
       "      <td>31.12</td>\n",
       "    </tr>\n",
       "    <tr>\n",
       "      <th>2018-07-18 14:48:29</th>\n",
       "      <td>0.8</td>\n",
       "      <td>18.43</td>\n",
       "      <td>14.36</td>\n",
       "      <td>31.56</td>\n",
       "    </tr>\n",
       "    <tr>\n",
       "      <th>2018-07-18 15:03:29</th>\n",
       "      <td>0.8</td>\n",
       "      <td>19.04</td>\n",
       "      <td>14.23</td>\n",
       "      <td>30.85</td>\n",
       "    </tr>\n",
       "    <tr>\n",
       "      <th>2018-07-18 15:18:29</th>\n",
       "      <td>0.8</td>\n",
       "      <td>19.37</td>\n",
       "      <td>14.23</td>\n",
       "      <td>31.25</td>\n",
       "    </tr>\n",
       "  </tbody>\n",
       "</table>\n",
       "</div>"
      ],
      "text/plain": [
       "                      fertilizer_level  light  soil_moisture_percent  \\\n",
       "capture_datetime_utc                                                   \n",
       "2018-07-18 14:18:29                0.8  17.10                  14.37   \n",
       "2018-07-18 14:33:29                0.8  17.75                  14.11   \n",
       "2018-07-18 14:48:29                0.8  18.43                  14.36   \n",
       "2018-07-18 15:03:29                0.8  19.04                  14.23   \n",
       "2018-07-18 15:18:29                0.8  19.37                  14.23   \n",
       "\n",
       "                      air_temperature_celsius  \n",
       "capture_datetime_utc                           \n",
       "2018-07-18 14:18:29                     30.94  \n",
       "2018-07-18 14:33:29                     31.12  \n",
       "2018-07-18 14:48:29                     31.56  \n",
       "2018-07-18 15:03:29                     30.85  \n",
       "2018-07-18 15:18:29                     31.25  "
      ]
     },
     "execution_count": 5,
     "metadata": {},
     "output_type": "execute_result"
    }
   ],
   "source": [
    "df.tail()  #this gives last few records, so we can confirm last update and continuity of update intervals"
   ]
  },
  {
   "cell_type": "code",
   "execution_count": 6,
   "metadata": {},
   "outputs": [
    {
     "data": {
      "text/html": [
       "<div>\n",
       "<style scoped>\n",
       "    .dataframe tbody tr th:only-of-type {\n",
       "        vertical-align: middle;\n",
       "    }\n",
       "\n",
       "    .dataframe tbody tr th {\n",
       "        vertical-align: top;\n",
       "    }\n",
       "\n",
       "    .dataframe thead th {\n",
       "        text-align: right;\n",
       "    }\n",
       "</style>\n",
       "<table border=\"1\" class=\"dataframe\">\n",
       "  <thead>\n",
       "    <tr style=\"text-align: right;\">\n",
       "      <th></th>\n",
       "      <th>fertilizer_level</th>\n",
       "      <th>light</th>\n",
       "      <th>soil_moisture_percent</th>\n",
       "      <th>air_temperature_celsius</th>\n",
       "    </tr>\n",
       "  </thead>\n",
       "  <tbody>\n",
       "    <tr>\n",
       "      <th>count</th>\n",
       "      <td>2866.000000</td>\n",
       "      <td>2866.000000</td>\n",
       "      <td>2866.000000</td>\n",
       "      <td>2866.000000</td>\n",
       "    </tr>\n",
       "    <tr>\n",
       "      <th>mean</th>\n",
       "      <td>0.821089</td>\n",
       "      <td>16.893140</td>\n",
       "      <td>16.998552</td>\n",
       "      <td>25.601989</td>\n",
       "    </tr>\n",
       "    <tr>\n",
       "      <th>std</th>\n",
       "      <td>0.120455</td>\n",
       "      <td>37.332312</td>\n",
       "      <td>7.412239</td>\n",
       "      <td>7.065481</td>\n",
       "    </tr>\n",
       "    <tr>\n",
       "      <th>min</th>\n",
       "      <td>0.660000</td>\n",
       "      <td>0.100000</td>\n",
       "      <td>5.740000</td>\n",
       "      <td>17.580000</td>\n",
       "    </tr>\n",
       "    <tr>\n",
       "      <th>25%</th>\n",
       "      <td>0.750000</td>\n",
       "      <td>0.100000</td>\n",
       "      <td>11.320000</td>\n",
       "      <td>20.830000</td>\n",
       "    </tr>\n",
       "    <tr>\n",
       "      <th>50%</th>\n",
       "      <td>0.780000</td>\n",
       "      <td>1.765000</td>\n",
       "      <td>16.575000</td>\n",
       "      <td>22.540000</td>\n",
       "    </tr>\n",
       "    <tr>\n",
       "      <th>75%</th>\n",
       "      <td>0.850000</td>\n",
       "      <td>15.292500</td>\n",
       "      <td>22.920000</td>\n",
       "      <td>28.850000</td>\n",
       "    </tr>\n",
       "    <tr>\n",
       "      <th>max</th>\n",
       "      <td>1.110000</td>\n",
       "      <td>171.240000</td>\n",
       "      <td>46.370000</td>\n",
       "      <td>54.920000</td>\n",
       "    </tr>\n",
       "  </tbody>\n",
       "</table>\n",
       "</div>"
      ],
      "text/plain": [
       "       fertilizer_level        light  soil_moisture_percent  \\\n",
       "count       2866.000000  2866.000000            2866.000000   \n",
       "mean           0.821089    16.893140              16.998552   \n",
       "std            0.120455    37.332312               7.412239   \n",
       "min            0.660000     0.100000               5.740000   \n",
       "25%            0.750000     0.100000              11.320000   \n",
       "50%            0.780000     1.765000              16.575000   \n",
       "75%            0.850000    15.292500              22.920000   \n",
       "max            1.110000   171.240000              46.370000   \n",
       "\n",
       "       air_temperature_celsius  \n",
       "count              2866.000000  \n",
       "mean                 25.601989  \n",
       "std                   7.065481  \n",
       "min                  17.580000  \n",
       "25%                  20.830000  \n",
       "50%                  22.540000  \n",
       "75%                  28.850000  \n",
       "max                  54.920000  "
      ]
     },
     "execution_count": 6,
     "metadata": {},
     "output_type": "execute_result"
    }
   ],
   "source": [
    "df.describe()  #gives a summary of descriptive statistics for the dataframe across all columns"
   ]
  },
  {
   "cell_type": "code",
   "execution_count": 11,
   "metadata": {},
   "outputs": [
    {
     "data": {
      "text/plain": [
       "18.906666666666652"
      ]
     },
     "execution_count": 11,
     "metadata": {},
     "output_type": "execute_result"
    }
   ],
   "source": [
    "df[\"2018-07-17\"].soil_moisture_percent.mean()  #average moisture reading as of yesterday (last full day)"
   ]
  },
  {
   "cell_type": "code",
   "execution_count": 8,
   "metadata": {},
   "outputs": [
    {
     "data": {
      "text/plain": [
       "capture_datetime_utc\n",
       "2018-06-18    17.437500\n",
       "2018-06-19    22.551354\n",
       "2018-06-20    26.030833\n",
       "2018-06-21    26.398229\n",
       "2018-06-22    27.647917\n",
       "2018-06-23    31.011667\n",
       "2018-06-24    26.591042\n",
       "2018-06-25    24.559792\n",
       "2018-06-26    21.068646\n",
       "2018-06-27    17.996250\n",
       "2018-06-28    15.341771\n",
       "2018-06-29    12.874479\n",
       "2018-06-30    14.465521\n",
       "2018-07-01    12.076354\n",
       "2018-07-02    16.002396\n",
       "2018-07-03    15.727083\n",
       "2018-07-04    16.280729\n",
       "2018-07-05    13.745104\n",
       "2018-07-06    17.121771\n",
       "2018-07-07    15.501250\n",
       "2018-07-08    10.003958\n",
       "2018-07-09    10.459375\n",
       "2018-07-10     8.346875\n",
       "2018-07-11     7.166146\n",
       "2018-07-12     6.523438\n",
       "2018-07-13     6.137396\n",
       "2018-07-14    16.540521\n",
       "2018-07-15    20.634062\n",
       "2018-07-16    15.160000\n",
       "2018-07-17    18.906667\n",
       "2018-07-18    16.992258\n",
       "Freq: D, Name: soil_moisture_percent, dtype: float64"
      ]
     },
     "execution_count": 8,
     "metadata": {},
     "output_type": "execute_result"
    }
   ],
   "source": [
    "df.soil_moisture_percent.resample('D').mean()  #daily average moisture readings since startup"
   ]
  },
  {
   "cell_type": "code",
   "execution_count": 9,
   "metadata": {},
   "outputs": [
    {
     "data": {
      "text/plain": [
       "<matplotlib.axes._subplots.AxesSubplot at 0x11073aba8>"
      ]
     },
     "execution_count": 9,
     "metadata": {},
     "output_type": "execute_result"
    },
    {
     "data": {
      "image/png": "[encoded data removed]",
      "text/plain": [
       "<Figure size 432x288 with 1 Axes>"
      ]
     },
     "metadata": {},
     "output_type": "display_data"
    }
   ],
   "source": [
    "%matplotlib inline\n",
    "df.soil_moisture_percent.resample('D').mean().plot(kind='line')\n",
    "# a graphical plot of those daily average moisture values"
   ]
  },
  {
   "cell_type": "code",
   "execution_count": 10,
   "metadata": {},
   "outputs": [
    {
     "data": {
      "text/plain": [
       "<matplotlib.axes._subplots.AxesSubplot at 0x11ac11470>"
      ]
     },
     "execution_count": 10,
     "metadata": {},
     "output_type": "execute_result"
    },
    {
     "data": {
      "image/png": "[encoded data removed]",
      "text/plain": [
       "<Figure size 432x288 with 1 Axes>"
      ]
     },
     "metadata": {},
     "output_type": "display_data"
    }
   ],
   "source": [
    "%matplotlib inline\n",
    "df.soil_moisture_percent.plot(kind='line')\n",
    "# a plot of that moisture history with full granularity (i.e. 15-min intervals)"
   ]
  },
  {
   "cell_type": "markdown",
   "metadata": {},
   "source": []
  },
  {
   "cell_type": "markdown",
   "metadata": {},
   "source": [
    "![img source](SoilSensor,iPhoneData2.JPG)"
   ]
  },
  {
   "cell_type": "markdown",
   "metadata": {},
   "source": [
    "![img source](https://i.imgur.com/l2XOgOGh.png)"
   ]
  },
  {
   "cell_type": "markdown",
   "metadata": {},
   "source": [
    "# CONCLUSIONS notes and questions for further study\n",
    "\n",
    "## NOTES\n",
    "[1] There is a doubt about the impermeability of the battery compartment"
   ]
  }
 ],
 "metadata": {
  "kernelspec": {
   "display_name": "Python 3",
   "language": "python",
   "name": "python3"
  },
  "language_info": {
   "codemirror_mode": {
    "name": "ipython",
    "version": 3
   },
   "file_extension": ".py",
   "mimetype": "text/x-python",
   "name": "python",
   "nbconvert_exporter": "python",
   "pygments_lexer": "ipython3",
   "version": "3.6.5"
  }
 },
 "nbformat": 4,
 "nbformat_minor": 2
}
