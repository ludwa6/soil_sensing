{
 "cells": [
  {
   "cell_type": "code",
   "execution_count": 1,
   "metadata": {},
   "outputs": [
    {
     "name": "stdout",
     "output_type": "stream",
     "text": [
      "Pandas version  0.23.0\n"
     ]
    }
   ],
   "source": [
    "import pandas as pd\n",
    "print(\"Pandas version \",pd.__version__)  # a good check to run"
   ]
  },
  {
   "cell_type": "code",
   "execution_count": 2,
   "metadata": {},
   "outputs": [],
   "source": [
    "df=pd.read_csv(\"Flower power 6A22.csv\",parse_dates=[\"capture_datetime_utc\"], index_col=\"capture_datetime_utc\")"
   ]
  },
  {
   "cell_type": "code",
   "execution_count": 3,
   "metadata": {},
   "outputs": [
    {
     "data": {
      "text/plain": [
       "pandas._libs.tslibs.timestamps.Timestamp"
      ]
     },
     "execution_count": 3,
     "metadata": {},
     "output_type": "execute_result"
    }
   ],
   "source": [
    "type(df.index[0])"
   ]
  },
  {
   "cell_type": "code",
   "execution_count": 4,
   "metadata": {},
   "outputs": [
    {
     "data": {
      "text/plain": [
       "DatetimeIndex(['2018-06-17 09:50:35', '2018-06-17 10:05:35',\n",
       "               '2018-06-17 10:20:35', '2018-06-17 10:35:35',\n",
       "               '2018-06-17 10:50:35', '2018-06-17 11:05:35',\n",
       "               '2018-06-17 11:20:35', '2018-06-17 11:35:35',\n",
       "               '2018-06-17 11:50:35', '2018-06-17 12:05:35',\n",
       "               ...\n",
       "               '2018-07-15 03:33:43', '2018-07-15 03:48:43',\n",
       "               '2018-07-15 04:03:43', '2018-07-15 04:18:43',\n",
       "               '2018-07-15 04:33:43', '2018-07-15 04:48:43',\n",
       "               '2018-07-15 05:03:43', '2018-07-15 05:18:43',\n",
       "               '2018-07-15 05:33:43', '2018-07-15 05:48:43'],\n",
       "              dtype='datetime64[ns]', name='capture_datetime_utc', length=2673, freq=None)"
      ]
     },
     "execution_count": 4,
     "metadata": {},
     "output_type": "execute_result"
    }
   ],
   "source": [
    "df.index"
   ]
  },
  {
   "cell_type": "code",
   "execution_count": 5,
   "metadata": {},
   "outputs": [
    {
     "name": "stdout",
     "output_type": "stream",
     "text": [
      "Customers: Rows & Columns =  (2673, 4)\n",
      "Customers: Column Headers:  Index(['fertilizer_level', 'light', 'soil_moisture_percent',\n",
      "       'air_temperature_celsius'],\n",
      "      dtype='object')\n"
     ]
    }
   ],
   "source": [
    "print(\"Customers: Rows & Columns = \",df.shape)  #to give an idea the shape of dataframe, literally\n",
    "print(\"Customers: Column Headers: \",df.columns)  # to see the column headers"
   ]
  },
  {
   "cell_type": "code",
   "execution_count": 6,
   "metadata": {},
   "outputs": [
    {
     "data": {
      "text/html": [
       "<div>\n",
       "<style scoped>\n",
       "    .dataframe tbody tr th:only-of-type {\n",
       "        vertical-align: middle;\n",
       "    }\n",
       "\n",
       "    .dataframe tbody tr th {\n",
       "        vertical-align: top;\n",
       "    }\n",
       "\n",
       "    .dataframe thead th {\n",
       "        text-align: right;\n",
       "    }\n",
       "</style>\n",
       "<table border=\"1\" class=\"dataframe\">\n",
       "  <thead>\n",
       "    <tr style=\"text-align: right;\">\n",
       "      <th></th>\n",
       "      <th>fertilizer_level</th>\n",
       "      <th>light</th>\n",
       "      <th>soil_moisture_percent</th>\n",
       "      <th>air_temperature_celsius</th>\n",
       "    </tr>\n",
       "    <tr>\n",
       "      <th>capture_datetime_utc</th>\n",
       "      <th></th>\n",
       "      <th></th>\n",
       "      <th></th>\n",
       "      <th></th>\n",
       "    </tr>\n",
       "  </thead>\n",
       "  <tbody>\n",
       "    <tr>\n",
       "      <th>2018-06-17 09:50:35</th>\n",
       "      <td>-1.0</td>\n",
       "      <td>0.10</td>\n",
       "      <td>0.00</td>\n",
       "      <td>25.83</td>\n",
       "    </tr>\n",
       "    <tr>\n",
       "      <th>2018-06-17 10:05:35</th>\n",
       "      <td>-1.0</td>\n",
       "      <td>132.03</td>\n",
       "      <td>19.10</td>\n",
       "      <td>37.33</td>\n",
       "    </tr>\n",
       "    <tr>\n",
       "      <th>2018-06-17 10:20:35</th>\n",
       "      <td>-1.0</td>\n",
       "      <td>71.51</td>\n",
       "      <td>18.41</td>\n",
       "      <td>42.36</td>\n",
       "    </tr>\n",
       "    <tr>\n",
       "      <th>2018-06-17 10:35:35</th>\n",
       "      <td>-1.0</td>\n",
       "      <td>138.41</td>\n",
       "      <td>24.44</td>\n",
       "      <td>41.96</td>\n",
       "    </tr>\n",
       "    <tr>\n",
       "      <th>2018-06-17 10:50:35</th>\n",
       "      <td>-1.0</td>\n",
       "      <td>143.59</td>\n",
       "      <td>23.60</td>\n",
       "      <td>46.52</td>\n",
       "    </tr>\n",
       "  </tbody>\n",
       "</table>\n",
       "</div>"
      ],
      "text/plain": [
       "                      fertilizer_level   light  soil_moisture_percent  \\\n",
       "capture_datetime_utc                                                    \n",
       "2018-06-17 09:50:35               -1.0    0.10                   0.00   \n",
       "2018-06-17 10:05:35               -1.0  132.03                  19.10   \n",
       "2018-06-17 10:20:35               -1.0   71.51                  18.41   \n",
       "2018-06-17 10:35:35               -1.0  138.41                  24.44   \n",
       "2018-06-17 10:50:35               -1.0  143.59                  23.60   \n",
       "\n",
       "                      air_temperature_celsius  \n",
       "capture_datetime_utc                           \n",
       "2018-06-17 09:50:35                     25.83  \n",
       "2018-06-17 10:05:35                     37.33  \n",
       "2018-06-17 10:20:35                     42.36  \n",
       "2018-06-17 10:35:35                     41.96  \n",
       "2018-06-17 10:50:35                     46.52  "
      ]
     },
     "execution_count": 6,
     "metadata": {},
     "output_type": "execute_result"
    }
   ],
   "source": [
    "df.head()"
   ]
  },
  {
   "cell_type": "code",
   "execution_count": 7,
   "metadata": {},
   "outputs": [
    {
     "data": {
      "text/html": [
       "<div>\n",
       "<style scoped>\n",
       "    .dataframe tbody tr th:only-of-type {\n",
       "        vertical-align: middle;\n",
       "    }\n",
       "\n",
       "    .dataframe tbody tr th {\n",
       "        vertical-align: top;\n",
       "    }\n",
       "\n",
       "    .dataframe thead th {\n",
       "        text-align: right;\n",
       "    }\n",
       "</style>\n",
       "<table border=\"1\" class=\"dataframe\">\n",
       "  <thead>\n",
       "    <tr style=\"text-align: right;\">\n",
       "      <th></th>\n",
       "      <th>fertilizer_level</th>\n",
       "      <th>light</th>\n",
       "      <th>soil_moisture_percent</th>\n",
       "      <th>air_temperature_celsius</th>\n",
       "    </tr>\n",
       "    <tr>\n",
       "      <th>capture_datetime_utc</th>\n",
       "      <th></th>\n",
       "      <th></th>\n",
       "      <th></th>\n",
       "      <th></th>\n",
       "    </tr>\n",
       "  </thead>\n",
       "  <tbody>\n",
       "    <tr>\n",
       "      <th>2018-06-17 09:50:35</th>\n",
       "      <td>-1.0</td>\n",
       "      <td>0.10</td>\n",
       "      <td>0.00</td>\n",
       "      <td>25.83</td>\n",
       "    </tr>\n",
       "    <tr>\n",
       "      <th>2018-06-17 10:05:35</th>\n",
       "      <td>-1.0</td>\n",
       "      <td>132.03</td>\n",
       "      <td>19.10</td>\n",
       "      <td>37.33</td>\n",
       "    </tr>\n",
       "    <tr>\n",
       "      <th>2018-06-17 10:20:35</th>\n",
       "      <td>-1.0</td>\n",
       "      <td>71.51</td>\n",
       "      <td>18.41</td>\n",
       "      <td>42.36</td>\n",
       "    </tr>\n",
       "  </tbody>\n",
       "</table>\n",
       "</div>"
      ],
      "text/plain": [
       "                      fertilizer_level   light  soil_moisture_percent  \\\n",
       "capture_datetime_utc                                                    \n",
       "2018-06-17 09:50:35               -1.0    0.10                   0.00   \n",
       "2018-06-17 10:05:35               -1.0  132.03                  19.10   \n",
       "2018-06-17 10:20:35               -1.0   71.51                  18.41   \n",
       "\n",
       "                      air_temperature_celsius  \n",
       "capture_datetime_utc                           \n",
       "2018-06-17 09:50:35                     25.83  \n",
       "2018-06-17 10:05:35                     37.33  \n",
       "2018-06-17 10:20:35                     42.36  "
      ]
     },
     "execution_count": 7,
     "metadata": {},
     "output_type": "execute_result"
    }
   ],
   "source": [
    "df.iloc[0:3]"
   ]
  },
  {
   "cell_type": "code",
   "execution_count": 8,
   "metadata": {},
   "outputs": [
    {
     "data": {
      "text/html": [
       "<div>\n",
       "<style scoped>\n",
       "    .dataframe tbody tr th:only-of-type {\n",
       "        vertical-align: middle;\n",
       "    }\n",
       "\n",
       "    .dataframe tbody tr th {\n",
       "        vertical-align: top;\n",
       "    }\n",
       "\n",
       "    .dataframe thead th {\n",
       "        text-align: right;\n",
       "    }\n",
       "</style>\n",
       "<table border=\"1\" class=\"dataframe\">\n",
       "  <thead>\n",
       "    <tr style=\"text-align: right;\">\n",
       "      <th></th>\n",
       "      <th>fertilizer_level</th>\n",
       "      <th>light</th>\n",
       "      <th>soil_moisture_percent</th>\n",
       "      <th>air_temperature_celsius</th>\n",
       "    </tr>\n",
       "    <tr>\n",
       "      <th>capture_datetime_utc</th>\n",
       "      <th></th>\n",
       "      <th></th>\n",
       "      <th></th>\n",
       "      <th></th>\n",
       "    </tr>\n",
       "  </thead>\n",
       "  <tbody>\n",
       "    <tr>\n",
       "      <th>2018-07-15 04:48:43</th>\n",
       "      <td>1.15</td>\n",
       "      <td>0.10</td>\n",
       "      <td>23.39</td>\n",
       "      <td>17.98</td>\n",
       "    </tr>\n",
       "    <tr>\n",
       "      <th>2018-07-15 05:03:43</th>\n",
       "      <td>1.15</td>\n",
       "      <td>0.10</td>\n",
       "      <td>22.91</td>\n",
       "      <td>17.93</td>\n",
       "    </tr>\n",
       "    <tr>\n",
       "      <th>2018-07-15 05:18:43</th>\n",
       "      <td>1.15</td>\n",
       "      <td>0.10</td>\n",
       "      <td>23.02</td>\n",
       "      <td>17.68</td>\n",
       "    </tr>\n",
       "    <tr>\n",
       "      <th>2018-07-15 05:33:43</th>\n",
       "      <td>1.15</td>\n",
       "      <td>0.24</td>\n",
       "      <td>23.14</td>\n",
       "      <td>17.73</td>\n",
       "    </tr>\n",
       "    <tr>\n",
       "      <th>2018-07-15 05:48:43</th>\n",
       "      <td>1.15</td>\n",
       "      <td>0.63</td>\n",
       "      <td>22.77</td>\n",
       "      <td>17.58</td>\n",
       "    </tr>\n",
       "  </tbody>\n",
       "</table>\n",
       "</div>"
      ],
      "text/plain": [
       "                      fertilizer_level  light  soil_moisture_percent  \\\n",
       "capture_datetime_utc                                                   \n",
       "2018-07-15 04:48:43               1.15   0.10                  23.39   \n",
       "2018-07-15 05:03:43               1.15   0.10                  22.91   \n",
       "2018-07-15 05:18:43               1.15   0.10                  23.02   \n",
       "2018-07-15 05:33:43               1.15   0.24                  23.14   \n",
       "2018-07-15 05:48:43               1.15   0.63                  22.77   \n",
       "\n",
       "                      air_temperature_celsius  \n",
       "capture_datetime_utc                           \n",
       "2018-07-15 04:48:43                     17.98  \n",
       "2018-07-15 05:03:43                     17.93  \n",
       "2018-07-15 05:18:43                     17.68  \n",
       "2018-07-15 05:33:43                     17.73  \n",
       "2018-07-15 05:48:43                     17.58  "
      ]
     },
     "execution_count": 8,
     "metadata": {},
     "output_type": "execute_result"
    }
   ],
   "source": [
    "df.tail()"
   ]
  },
  {
   "cell_type": "code",
   "execution_count": 9,
   "metadata": {},
   "outputs": [
    {
     "data": {
      "text/plain": [
       "7.166145833333343"
      ]
     },
     "execution_count": 9,
     "metadata": {},
     "output_type": "execute_result"
    }
   ],
   "source": [
    "df[\"2018-07-11\"].soil_moisture_percent.mean()"
   ]
  },
  {
   "cell_type": "code",
   "execution_count": 10,
   "metadata": {},
   "outputs": [
    {
     "data": {
      "text/plain": [
       "capture_datetime_utc\n",
       "2018-06-17    22.543509\n",
       "2018-06-18    19.607812\n",
       "2018-06-19    22.551354\n",
       "2018-06-20    26.030833\n",
       "2018-06-21    26.398229\n",
       "2018-06-22    27.647917\n",
       "2018-06-23    31.011667\n",
       "2018-06-24    26.591042\n",
       "2018-06-25    24.559792\n",
       "2018-06-26    21.068646\n",
       "2018-06-27    17.996250\n",
       "2018-06-28    15.341771\n",
       "2018-06-29    12.874479\n",
       "2018-06-30    14.465521\n",
       "2018-07-01    12.076354\n",
       "2018-07-02    16.002396\n",
       "2018-07-03    15.727083\n",
       "2018-07-04    16.280729\n",
       "2018-07-05    13.745104\n",
       "2018-07-06    17.121771\n",
       "2018-07-07    15.501250\n",
       "2018-07-08    10.003958\n",
       "2018-07-09    10.459375\n",
       "2018-07-10     8.346875\n",
       "2018-07-11     7.166146\n",
       "2018-07-12     6.523438\n",
       "2018-07-13     6.137396\n",
       "2018-07-14    16.540521\n",
       "2018-07-15    24.505000\n",
       "Freq: D, Name: soil_moisture_percent, dtype: float64"
      ]
     },
     "execution_count": 10,
     "metadata": {},
     "output_type": "execute_result"
    }
   ],
   "source": [
    "df.soil_moisture_percent.resample('D').mean()"
   ]
  },
  {
   "cell_type": "code",
   "execution_count": 11,
   "metadata": {},
   "outputs": [
    {
     "data": {
      "text/plain": [
       "<matplotlib.axes._subplots.AxesSubplot at 0x110e5ec18>"
      ]
     },
     "execution_count": 11,
     "metadata": {},
     "output_type": "execute_result"
    },
    {
     "data": {
      "image/png": "[encoded data removed]",
      "text/plain": [
       "<Figure size 432x288 with 1 Axes>"
      ]
     },
     "metadata": {},
     "output_type": "display_data"
    }
   ],
   "source": [
    "%matplotlib inline\n",
    "df.soil_moisture_percent.resample('D').mean().plot(kind='line')"
   ]
  },
  {
   "cell_type": "code",
   "execution_count": 12,
   "metadata": {},
   "outputs": [
    {
     "data": {
      "text/plain": [
       "<matplotlib.axes._subplots.AxesSubplot at 0x11b258908>"
      ]
     },
     "execution_count": 12,
     "metadata": {},
     "output_type": "execute_result"
    },
    {
     "data": {
      "image/png": "[encoded data removed]",
      "text/plain": [
       "<Figure size 432x288 with 1 Axes>"
      ]
     },
     "metadata": {},
     "output_type": "display_data"
    }
   ],
   "source": [
    "%matplotlib inline\n",
    "df.soil_moisture_percent.plot(kind='line')"
   ]
  },
  {
   "cell_type": "code",
   "execution_count": null,
   "metadata": {},
   "outputs": [],
   "source": []
  }
 ],
 "metadata": {
  "kernelspec": {
   "display_name": "Python 3",
   "language": "python",
   "name": "python3"
  },
  "language_info": {
   "codemirror_mode": {
    "name": "ipython",
    "version": 3
   },
   "file_extension": ".py",
   "mimetype": "text/x-python",
   "name": "python",
   "nbconvert_exporter": "python",
   "pygments_lexer": "ipython3",
   "version": "3.6.5"
  }
 },
 "nbformat": 4,
 "nbformat_minor": 2
}
